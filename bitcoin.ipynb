{
 "cells": [
  {
   "cell_type": "markdown",
   "metadata": {},
   "source": [
    "# Bitcoin cycles\n",
    "\n",
    "Bitcoin prices in relation to halving cycles."
   ]
  },
  {
   "cell_type": "code",
   "execution_count": 1,
   "metadata": {
    "execution": {
     "iopub.execute_input": "2024-05-18T05:06:05.632046Z",
     "iopub.status.busy": "2024-05-18T05:06:05.631558Z",
     "iopub.status.idle": "2024-05-18T05:06:05.645705Z",
     "shell.execute_reply": "2024-05-18T05:06:05.645213Z"
    }
   },
   "outputs": [],
   "source": [
    "%load_ext autoreload\n",
    "%autoreload 2"
   ]
  },
  {
   "cell_type": "code",
   "execution_count": 2,
   "metadata": {
    "execution": {
     "iopub.execute_input": "2024-05-18T05:06:05.648040Z",
     "iopub.status.busy": "2024-05-18T05:06:05.647689Z",
     "iopub.status.idle": "2024-05-18T05:06:06.651505Z",
     "shell.execute_reply": "2024-05-18T05:06:06.650881Z"
    }
   },
   "outputs": [
    {
     "ename": "ModuleNotFoundError",
     "evalue": "No module named 'pandas'",
     "output_type": "error",
     "traceback": [
      "\u001b[0;31m---------------------------------------------------------------------------\u001b[0m",
      "\u001b[0;31mModuleNotFoundError\u001b[0m                       Traceback (most recent call last)",
      "Cell \u001b[0;32mIn[2], line 3\u001b[0m\n\u001b[1;32m      1\u001b[0m \u001b[38;5;28;01mimport\u001b[39;00m \u001b[38;5;21;01mos\u001b[39;00m\n\u001b[1;32m      2\u001b[0m \u001b[38;5;28;01mfrom\u001b[39;00m \u001b[38;5;21;01mdotenv\u001b[39;00m \u001b[38;5;28;01mimport\u001b[39;00m load_dotenv\n\u001b[0;32m----> 3\u001b[0m \u001b[38;5;28;01mfrom\u001b[39;00m \u001b[38;5;21;01mbtc_cycles\u001b[39;00m \u001b[38;5;28;01mimport\u001b[39;00m Bitcoin\n\u001b[1;32m      5\u001b[0m load_dotenv()\n",
      "File \u001b[0;32m~/Documents/GitHub/btc-cycles/btc_cycles/__init__.py:3\u001b[0m\n\u001b[1;32m      1\u001b[0m \u001b[38;5;124;03m\"\"\"btc_cycles\"\"\"\u001b[39;00m\n\u001b[0;32m----> 3\u001b[0m \u001b[38;5;28;01mfrom\u001b[39;00m \u001b[38;5;21;01m.\u001b[39;00m\u001b[38;5;21;01mcore\u001b[39;00m \u001b[38;5;28;01mimport\u001b[39;00m Bitcoin\n\u001b[1;32m      5\u001b[0m __all__ \u001b[38;5;241m=\u001b[39m [\u001b[38;5;124m\"\u001b[39m\u001b[38;5;124mBitcoin\u001b[39m\u001b[38;5;124m\"\u001b[39m]\n",
      "File \u001b[0;32m~/Documents/GitHub/btc-cycles/btc_cycles/core/__init__.py:3\u001b[0m\n\u001b[1;32m      1\u001b[0m \u001b[38;5;124;03m\"\"\"core modules\"\"\"\u001b[39;00m\n\u001b[0;32m----> 3\u001b[0m \u001b[38;5;28;01mfrom\u001b[39;00m \u001b[38;5;21;01m.\u001b[39;00m\u001b[38;5;21;01mbitcoin\u001b[39;00m \u001b[38;5;28;01mimport\u001b[39;00m Bitcoin\n\u001b[1;32m      5\u001b[0m __all__ \u001b[38;5;241m=\u001b[39m [\u001b[38;5;124m\"\u001b[39m\u001b[38;5;124mBitcoin\u001b[39m\u001b[38;5;124m\"\u001b[39m]\n",
      "File \u001b[0;32m~/Documents/GitHub/btc-cycles/btc_cycles/core/bitcoin.py:7\u001b[0m\n\u001b[1;32m      4\u001b[0m \u001b[38;5;28;01mfrom\u001b[39;00m \u001b[38;5;21;01mtyping\u001b[39;00m \u001b[38;5;28;01mimport\u001b[39;00m Union, Literal\n\u001b[1;32m      5\u001b[0m \u001b[38;5;28;01mimport\u001b[39;00m \u001b[38;5;21;01mdatetime\u001b[39;00m\n\u001b[0;32m----> 7\u001b[0m \u001b[38;5;28;01mfrom\u001b[39;00m \u001b[38;5;21;01m.\u001b[39;00m\u001b[38;5;21;01mprices\u001b[39;00m \u001b[38;5;28;01mimport\u001b[39;00m Prices\n\u001b[1;32m      8\u001b[0m \u001b[38;5;28;01mfrom\u001b[39;00m \u001b[38;5;21;01m.\u001b[39;00m\u001b[38;5;21;01mhalvings\u001b[39;00m \u001b[38;5;28;01mimport\u001b[39;00m get_halving_data, Halvings\n\u001b[1;32m      9\u001b[0m \u001b[38;5;28;01mfrom\u001b[39;00m \u001b[38;5;21;01m.\u001b[39;00m\u001b[38;5;21;01m.\u001b[39;00m\u001b[38;5;21;01martist\u001b[39;00m \u001b[38;5;28;01mimport\u001b[39;00m Artist\n",
      "File \u001b[0;32m~/Documents/GitHub/btc-cycles/btc_cycles/core/prices.py:3\u001b[0m\n\u001b[1;32m      1\u001b[0m \u001b[38;5;124;03m\"\"\"prices module\"\"\"\u001b[39;00m\n\u001b[0;32m----> 3\u001b[0m \u001b[38;5;28;01mimport\u001b[39;00m \u001b[38;5;21;01mpandas\u001b[39;00m \u001b[38;5;28;01mas\u001b[39;00m \u001b[38;5;21;01mpd\u001b[39;00m\n\u001b[1;32m      5\u001b[0m \u001b[38;5;28;01mfrom\u001b[39;00m \u001b[38;5;21;01m.\u001b[39;00m\u001b[38;5;21;01mhalvings\u001b[39;00m \u001b[38;5;28;01mimport\u001b[39;00m Halvings\n\u001b[1;32m      6\u001b[0m \u001b[38;5;28;01mfrom\u001b[39;00m \u001b[38;5;21;01m.\u001b[39;00m\u001b[38;5;21;01msources\u001b[39;00m \u001b[38;5;28;01mimport\u001b[39;00m Source\n",
      "\u001b[0;31mModuleNotFoundError\u001b[0m: No module named 'pandas'"
     ]
    }
   ],
   "source": [
    "import os\n",
    "from dotenv import load_dotenv\n",
    "from btc_cycles import Bitcoin\n",
    "\n",
    "load_dotenv()"
   ]
  },
  {
   "cell_type": "markdown",
   "metadata": {},
   "source": [
    "## Bitcoin\n",
    "\n",
    "`Bitcoin` is the main object.\n",
    "Fetches data from the selected source, computes metrics (ATH and cycle progress).\n",
    "\n",
    "*Available sources*:\n",
    "- `cryptocompare`: [cryptocompare](https://www.cryptocompare.com/) requires API key\n",
    "- `coinmarketcap`: [coinmarketcap](https://coinmarketcap.com/) requires API key\n",
    "- `coinmarketcap-free`: [coinmarketcap](https://coinmarketcap.com/) **broken legacy API**, still available hoping for a fix ([see here](https://github.com/guptarohit/cryptoCMD/issues/86)).\n",
    "\n",
    "*Arguments*\n",
    "- `currency` (str) : currency. Defaults to USD.\n",
    "- `source` (str) : source of price data\n",
    "- `api_key` (str) : API key to selected source\n",
    "\n",
    "*Attributes*\n",
    "- `prices` (pd.DataFrame) : pandas dataframe of prices\n",
    "- `halvings` (pd.DataFrame) : pandas dataframe of halvings data\n",
    "- `predicted_halving_block` (int): block of next halving\n",
    "- `predicted_halving_date` (datetime): predicted date of next halving "
   ]
  },
  {
   "cell_type": "code",
   "execution_count": null,
   "metadata": {
    "execution": {
     "iopub.execute_input": "2024-05-18T05:06:06.654556Z",
     "iopub.status.busy": "2024-05-18T05:06:06.654086Z",
     "iopub.status.idle": "2024-05-18T05:06:09.787662Z",
     "shell.execute_reply": "2024-05-18T05:06:09.787047Z"
    }
   },
   "outputs": [
    {
     "ename": "",
     "evalue": "",
     "output_type": "error",
     "traceback": [
      "\u001b[1;31mRunning cells with 'btc (Python 3.8.19)' requires the ipykernel package.\n",
      "\u001b[1;31mRun the following command to install 'ipykernel' into the Python environment. \n",
      "\u001b[1;31mCommand: 'conda install -n btc ipykernel --update-deps --force-reinstall'"
     ]
    }
   ],
   "source": [
    "btc = Bitcoin(\n",
    "    source=\"cryptocompare\",  # \"coinmarketcap\", \"cryptocompare\"\n",
    "    api_key=os.getenv(\"CRYPTOCOMPARE_API_KEY\"),  # only for cryptocompare, coinmarketcap\n",
    ")"
   ]
  },
  {
   "cell_type": "code",
   "execution_count": null,
   "metadata": {},
   "outputs": [
    {
     "ename": "",
     "evalue": "",
     "output_type": "error",
     "traceback": [
      "\u001b[1;31mRunning cells with 'btc (Python 3.8.19)' requires the ipykernel package.\n",
      "\u001b[1;31mRun the following command to install 'ipykernel' into the Python environment. \n",
      "\u001b[1;31mCommand: 'conda install -n btc ipykernel --update-deps --force-reinstall'"
     ]
    }
   ],
   "source": [
    "print(\n",
    "    f\"Next halving (block {btc.predicted_halving_block}) is predicted on {btc.predicted_halving_date}\"\n",
    ")"
   ]
  },
  {
   "cell_type": "code",
   "execution_count": null,
   "metadata": {
    "execution": {
     "iopub.execute_input": "2024-05-18T05:06:09.790459Z",
     "iopub.status.busy": "2024-05-18T05:06:09.790048Z",
     "iopub.status.idle": "2024-05-18T05:06:09.908490Z",
     "shell.execute_reply": "2024-05-18T05:06:09.907855Z"
    }
   },
   "outputs": [
    {
     "ename": "",
     "evalue": "",
     "output_type": "error",
     "traceback": [
      "\u001b[1;31mRunning cells with 'btc (Python 3.8.19)' requires the ipykernel package.\n",
      "\u001b[1;31mRun the following command to install 'ipykernel' into the Python environment. \n",
      "\u001b[1;31mCommand: 'conda install -n btc ipykernel --update-deps --force-reinstall'"
     ]
    }
   ],
   "source": [
    "btc.halvings.head(10)"
   ]
  },
  {
   "cell_type": "code",
   "execution_count": null,
   "metadata": {
    "execution": {
     "iopub.execute_input": "2024-05-18T05:06:10.051671Z",
     "iopub.status.busy": "2024-05-18T05:06:10.051273Z",
     "iopub.status.idle": "2024-05-18T05:06:10.072880Z",
     "shell.execute_reply": "2024-05-18T05:06:10.072288Z"
    }
   },
   "outputs": [
    {
     "ename": "",
     "evalue": "",
     "output_type": "error",
     "traceback": [
      "\u001b[1;31mRunning cells with 'btc (Python 3.8.19)' requires the ipykernel package.\n",
      "\u001b[1;31mRun the following command to install 'ipykernel' into the Python environment. \n",
      "\u001b[1;31mCommand: 'conda install -n btc ipykernel --update-deps --force-reinstall'"
     ]
    }
   ],
   "source": [
    "btc.prices"
   ]
  },
  {
   "cell_type": "markdown",
   "metadata": {},
   "source": [
    "## Plots\n",
    "\n",
    "The method `plot` returns a `matplotlib.Figure` radial chart of the prices.\n",
    "\n",
    "Arguments:\n",
    "- `from_date` (str or datetime): date from which data is plotted. Some sources offers unlimited historical data and some filtering might be needed.\n",
    "- `theme` (str or dict): theme of the plot. Default is `light`, or `dark` for dark mode. Custom themes can be passed as a dictionary. Colors can also be customized singularly."
   ]
  },
  {
   "cell_type": "code",
   "execution_count": null,
   "metadata": {
    "execution": {
     "iopub.execute_input": "2024-05-18T05:06:10.075486Z",
     "iopub.status.busy": "2024-05-18T05:06:10.075108Z",
     "iopub.status.idle": "2024-05-18T05:06:11.568460Z",
     "shell.execute_reply": "2024-05-18T05:06:11.567783Z"
    }
   },
   "outputs": [
    {
     "ename": "",
     "evalue": "",
     "output_type": "error",
     "traceback": [
      "\u001b[1;31mRunning cells with 'btc (Python 3.8.19)' requires the ipykernel package.\n",
      "\u001b[1;31mRun the following command to install 'ipykernel' into the Python environment. \n",
      "\u001b[1;31mCommand: 'conda install -n btc ipykernel --update-deps --force-reinstall'"
     ]
    }
   ],
   "source": [
    "fig = btc.plot(\n",
    "    from_date=\"2012-11-28\",  # start date\n",
    "    # theme=\"dark\",  # dark or light, or dict with custom colors.\n",
    "    # theme = {\n",
    "    #     \"now_line\": \"red\"\n",
    "    # },\n",
    ")\n",
    "# # fig is a matplotlib figure object\n",
    "fig.savefig(\"bitcoin.png\")"
   ]
  },
  {
   "cell_type": "code",
   "execution_count": null,
   "metadata": {},
   "outputs": [
    {
     "ename": "",
     "evalue": "",
     "output_type": "error",
     "traceback": [
      "\u001b[1;31mRunning cells with 'btc (Python 3.8.19)' requires the ipykernel package.\n",
      "\u001b[1;31mRun the following command to install 'ipykernel' into the Python environment. \n",
      "\u001b[1;31mCommand: 'conda install -n btc ipykernel --update-deps --force-reinstall'"
     ]
    }
   ],
   "source": []
  }
 ],
 "metadata": {
  "kernelspec": {
   "display_name": "base",
   "language": "python",
   "name": "python3"
  },
  "language_info": {
   "codemirror_mode": {
    "name": "ipython",
    "version": 3
   },
   "file_extension": ".py",
   "mimetype": "text/x-python",
   "name": "python",
   "nbconvert_exporter": "python",
   "pygments_lexer": "ipython3",
   "version": "3.10.14"
  }
 },
 "nbformat": 4,
 "nbformat_minor": 2
}
